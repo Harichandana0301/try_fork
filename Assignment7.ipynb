{
 "cells": [
  {
   "cell_type": "code",
   "execution_count": 1,
   "id": "382d38f8",
   "metadata": {},
   "outputs": [],
   "source": [
    "import numpy as np\n",
    "import pandas as pd\n",
    "import seaborn as sns\n",
    "import matplotlib.pyplot as plt\n",
    "from sklearn import tree\n",
    "from sklearn.neighbors import KNeighborsClassifier\n",
    "from sklearn.linear_model import LogisticRegression\n",
    "from sklearn.tree import DecisionTreeRegressor\n",
    "from sklearn.ensemble import RandomForestClassifier\n",
    "from sklearn.preprocessing import StandardScaler, MinMaxScaler, normalize\n",
    "from sklearn.model_selection import train_test_split, cross_val_score, GridSearchCV\n",
    "from sklearn.metrics import roc_curve, auc, roc_auc_score, accuracy_score, mean_squared_error, precision_score, recall_score, f1_score, confusion_matrix\n",
    "%matplotlib inline"
   ]
  },
  {
   "cell_type": "markdown",
   "id": "86412823",
   "metadata": {},
   "source": [
    "### msft.csv: This file contains the stock prices for Microsoft from January 2007 to December 2016."
   ]
  },
  {
   "cell_type": "markdown",
   "id": "3280d429",
   "metadata": {},
   "source": [
    "### train office.csv and test office.csv: This dataset contains information about the date, temperature, humidity, and other environmental factors for the office. The goal is to predict whether the office room is occupied (1) or not (0). Use the last column, Occupancy, as your target (class) variable."
   ]
  },
  {
   "cell_type": "markdown",
   "id": "11d3889d",
   "metadata": {},
   "source": [
    "### 1 . [35 points] Different predictive models"
   ]
  },
  {
   "cell_type": "markdown",
   "id": "dade62f6",
   "metadata": {},
   "source": [
    "### (a) Train the following classifiers (using 5-fold cross-validation) on the train office.csv file and calculate the average accuracy of the cross-validation for each method given below. Vary the hyperparameters of the classifier and draw a plot that shows the average cross-validation accuracy versus hyperparameter values for each classification method shown below:"
   ]
  },
  {
   "cell_type": "code",
   "execution_count": 2,
   "id": "e283c6c7",
   "metadata": {},
   "outputs": [
    {
     "data": {
      "text/html": [
       "<div>\n",
       "<style scoped>\n",
       "    .dataframe tbody tr th:only-of-type {\n",
       "        vertical-align: middle;\n",
       "    }\n",
       "\n",
       "    .dataframe tbody tr th {\n",
       "        vertical-align: top;\n",
       "    }\n",
       "\n",
       "    .dataframe thead th {\n",
       "        text-align: right;\n",
       "    }\n",
       "</style>\n",
       "<table border=\"1\" class=\"dataframe\">\n",
       "  <thead>\n",
       "    <tr style=\"text-align: right;\">\n",
       "      <th></th>\n",
       "      <th>Temperature</th>\n",
       "      <th>Humidity</th>\n",
       "      <th>Light</th>\n",
       "      <th>CO2</th>\n",
       "      <th>HumidityRatio</th>\n",
       "      <th>Occupancy</th>\n",
       "    </tr>\n",
       "  </thead>\n",
       "  <tbody>\n",
       "    <tr>\n",
       "      <th>0</th>\n",
       "      <td>23.18</td>\n",
       "      <td>27.2720</td>\n",
       "      <td>426.0</td>\n",
       "      <td>721.25</td>\n",
       "      <td>0.004793</td>\n",
       "      <td>1</td>\n",
       "    </tr>\n",
       "    <tr>\n",
       "      <th>1</th>\n",
       "      <td>23.15</td>\n",
       "      <td>27.2675</td>\n",
       "      <td>429.5</td>\n",
       "      <td>714.00</td>\n",
       "      <td>0.004783</td>\n",
       "      <td>1</td>\n",
       "    </tr>\n",
       "  </tbody>\n",
       "</table>\n",
       "</div>"
      ],
      "text/plain": [
       "   Temperature  Humidity  Light     CO2  HumidityRatio  Occupancy\n",
       "0        23.18   27.2720  426.0  721.25       0.004793          1\n",
       "1        23.15   27.2675  429.5  714.00       0.004783          1"
      ]
     },
     "metadata": {},
     "output_type": "display_data"
    },
    {
     "data": {
      "text/html": [
       "<div>\n",
       "<style scoped>\n",
       "    .dataframe tbody tr th:only-of-type {\n",
       "        vertical-align: middle;\n",
       "    }\n",
       "\n",
       "    .dataframe tbody tr th {\n",
       "        vertical-align: top;\n",
       "    }\n",
       "\n",
       "    .dataframe thead th {\n",
       "        text-align: right;\n",
       "    }\n",
       "</style>\n",
       "<table border=\"1\" class=\"dataframe\">\n",
       "  <thead>\n",
       "    <tr style=\"text-align: right;\">\n",
       "      <th></th>\n",
       "      <th>Temperature</th>\n",
       "      <th>Humidity</th>\n",
       "      <th>Light</th>\n",
       "      <th>CO2</th>\n",
       "      <th>HumidityRatio</th>\n",
       "    </tr>\n",
       "  </thead>\n",
       "  <tbody>\n",
       "    <tr>\n",
       "      <th>0</th>\n",
       "      <td>23.18</td>\n",
       "      <td>27.2720</td>\n",
       "      <td>426.0</td>\n",
       "      <td>721.25</td>\n",
       "      <td>0.004793</td>\n",
       "    </tr>\n",
       "    <tr>\n",
       "      <th>1</th>\n",
       "      <td>23.15</td>\n",
       "      <td>27.2675</td>\n",
       "      <td>429.5</td>\n",
       "      <td>714.00</td>\n",
       "      <td>0.004783</td>\n",
       "    </tr>\n",
       "  </tbody>\n",
       "</table>\n",
       "</div>"
      ],
      "text/plain": [
       "   Temperature  Humidity  Light     CO2  HumidityRatio\n",
       "0        23.18   27.2720  426.0  721.25       0.004793\n",
       "1        23.15   27.2675  429.5  714.00       0.004783"
      ]
     },
     "metadata": {},
     "output_type": "display_data"
    }
   ],
   "source": [
    "data = pd.read_csv('train_office.csv')\n",
    "data = data.drop('date', axis=1)\n",
    "X = data.drop('Occupancy', axis=1)\n",
    "Y = data['Occupancy']\n",
    "display(data.head(2))\n",
    "display(X.head(2))"
   ]
  },
  {
   "cell_type": "markdown",
   "id": "55c9be31",
   "metadata": {},
   "source": [
    "### i. Decision tree (DT) (maxdepth = 1, 5, 10, 50, 100)"
   ]
  },
  {
   "cell_type": "code",
   "execution_count": 3,
   "id": "e7e5fcc1",
   "metadata": {},
   "outputs": [
    {
     "data": {
      "text/html": [
       "<div>\n",
       "<style scoped>\n",
       "    .dataframe tbody tr th:only-of-type {\n",
       "        vertical-align: middle;\n",
       "    }\n",
       "\n",
       "    .dataframe tbody tr th {\n",
       "        vertical-align: top;\n",
       "    }\n",
       "\n",
       "    .dataframe thead th {\n",
       "        text-align: right;\n",
       "    }\n",
       "</style>\n",
       "<table border=\"1\" class=\"dataframe\">\n",
       "  <thead>\n",
       "    <tr style=\"text-align: right;\">\n",
       "      <th></th>\n",
       "      <th>Depth</th>\n",
       "      <th>Avg_Cross_Acc</th>\n",
       "    </tr>\n",
       "  </thead>\n",
       "  <tbody>\n",
       "    <tr>\n",
       "      <th>0</th>\n",
       "      <td>1</td>\n",
       "      <td>0.975499</td>\n",
       "    </tr>\n",
       "    <tr>\n",
       "      <th>1</th>\n",
       "      <td>5</td>\n",
       "      <td>0.938876</td>\n",
       "    </tr>\n",
       "    <tr>\n",
       "      <th>2</th>\n",
       "      <td>10</td>\n",
       "      <td>0.920224</td>\n",
       "    </tr>\n",
       "    <tr>\n",
       "      <th>3</th>\n",
       "      <td>50</td>\n",
       "      <td>0.922810</td>\n",
       "    </tr>\n",
       "    <tr>\n",
       "      <th>4</th>\n",
       "      <td>100</td>\n",
       "      <td>0.920496</td>\n",
       "    </tr>\n",
       "  </tbody>\n",
       "</table>\n",
       "</div>"
      ],
      "text/plain": [
       "   Depth  Avg_Cross_Acc\n",
       "0      1       0.975499\n",
       "1      5       0.938876\n",
       "2     10       0.920224\n",
       "3     50       0.922810\n",
       "4    100       0.920496"
      ]
     },
     "execution_count": 3,
     "metadata": {},
     "output_type": "execute_result"
    }
   ],
   "source": [
    "def dt(data):\n",
    "    depths = [1, 5, 10, 50, 100]\n",
    "    results = []\n",
    "    for d in depths:\n",
    "        clf = tree.DecisionTreeClassifier(max_depth=d)\n",
    "        scores = cross_val_score(clf, X, Y, cv=5)\n",
    "        mean_score = scores.mean()\n",
    "        results.append((d, mean_score)) \n",
    "    res_df = pd.DataFrame(results, columns=['Depth', 'Avg_Cross_Acc'])\n",
    "    return res_df\n",
    "\n",
    "dt_res = dt(data)\n",
    "dt_res"
   ]
  },
  {
   "cell_type": "code",
   "execution_count": 4,
   "id": "dfb640f4",
   "metadata": {},
   "outputs": [
    {
     "data": {
      "image/png": "[encoded data removed]",
      "text/plain": [
       "<Figure size 300x200 with 1 Axes>"
      ]
     },
     "metadata": {},
     "output_type": "display_data"
    }
   ],
   "source": [
    "plt.figure(figsize = (3,2))\n",
    "sns.lineplot(data=dt_res, x='Depth', y='Avg_Cross_Acc')\n",
    "plt.title('Depth and Average Cross Validation Accuracy')\n",
    "plt.xlabel('Depth')\n",
    "plt.ylabel('Cross Validation Accuracy ')\n",
    "plt.show()"
   ]
  },
  {
   "cell_type": "markdown",
   "id": "cf1c5264",
   "metadata": {},
   "source": [
    "### ii. K-nearest neighbor (KNN) (k = 1, 2, 3, 4, 5, 10, 15)"
   ]
  },
  {
   "cell_type": "code",
   "execution_count": 5,
   "id": "e43ad669",
   "metadata": {},
   "outputs": [
    {
     "name": "stderr",
     "output_type": "stream",
     "text": [
      "/Users/svinayachanta/opt/anaconda3/lib/python3.9/site-packages/sklearn/neighbors/_classification.py:228: FutureWarning: Unlike other reduction functions (e.g. `skew`, `kurtosis`), the default behavior of `mode` typically preserves the axis it acts along. In SciPy 1.11.0, this behavior will change: the default value of `keepdims` will become False, the `axis` over which the statistic is taken will be eliminated, and the value None will no longer be accepted. Set `keepdims` to True or False to avoid this warning.\n",
      "  mode, _ = stats.mode(_y[neigh_ind, k], axis=1)\n",
      "/Users/svinayachanta/opt/anaconda3/lib/python3.9/site-packages/sklearn/neighbors/_classification.py:228: FutureWarning: Unlike other reduction functions (e.g. `skew`, `kurtosis`), the default behavior of `mode` typically preserves the axis it acts along. In SciPy 1.11.0, this behavior will change: the default value of `keepdims` will become False, the `axis` over which the statistic is taken will be eliminated, and the value None will no longer be accepted. Set `keepdims` to True or False to avoid this warning.\n",
      "  mode, _ = stats.mode(_y[neigh_ind, k], axis=1)\n",
      "/Users/svinayachanta/opt/anaconda3/lib/python3.9/site-packages/sklearn/neighbors/_classification.py:228: FutureWarning: Unlike other reduction functions (e.g. `skew`, `kurtosis`), the default behavior of `mode` typically preserves the axis it acts along. In SciPy 1.11.0, this behavior will change: the default value of `keepdims` will become False, the `axis` over which the statistic is taken will be eliminated, and the value None will no longer be accepted. Set `keepdims` to True or False to avoid this warning.\n",
      "  mode, _ = stats.mode(_y[neigh_ind, k], axis=1)\n",
      "/Users/svinayachanta/opt/anaconda3/lib/python3.9/site-packages/sklearn/neighbors/_classification.py:228: FutureWarning: Unlike other reduction functions (e.g. `skew`, `kurtosis`), the default behavior of `mode` typically preserves the axis it acts along. In SciPy 1.11.0, this behavior will change: the default value of `keepdims` will become False, the `axis` over which the statistic is taken will be eliminated, and the value None will no longer be accepted. Set `keepdims` to True or False to avoid this warning.\n",
      "  mode, _ = stats.mode(_y[neigh_ind, k], axis=1)\n",
      "/Users/svinayachanta/opt/anaconda3/lib/python3.9/site-packages/sklearn/neighbors/_classification.py:228: FutureWarning: Unlike other reduction functions (e.g. `skew`, `kurtosis`), the default behavior of `mode` typically preserves the axis it acts along. In SciPy 1.11.0, this behavior will change: the default value of `keepdims` will become False, the `axis` over which the statistic is taken will be eliminated, and the value None will no longer be accepted. Set `keepdims` to True or False to avoid this warning.\n",
      "  mode, _ = stats.mode(_y[neigh_ind, k], axis=1)\n",
      "/Users/svinayachanta/opt/anaconda3/lib/python3.9/site-packages/sklearn/neighbors/_classification.py:228: FutureWarning: Unlike other reduction functions (e.g. `skew`, `kurtosis`), the default behavior of `mode` typically preserves the axis it acts along. In SciPy 1.11.0, this behavior will change: the default value of `keepdims` will become False, the `axis` over which the statistic is taken will be eliminated, and the value None will no longer be accepted. Set `keepdims` to True or False to avoid this warning.\n",
      "  mode, _ = stats.mode(_y[neigh_ind, k], axis=1)\n",
      "/Users/svinayachanta/opt/anaconda3/lib/python3.9/site-packages/sklearn/neighbors/_classification.py:228: FutureWarning: Unlike other reduction functions (e.g. `skew`, `kurtosis`), the default behavior of `mode` typically preserves the axis it acts along. In SciPy 1.11.0, this behavior will change: the default value of `keepdims` will become False, the `axis` over which the statistic is taken will be eliminated, and the value None will no longer be accepted. Set `keepdims` to True or False to avoid this warning.\n",
      "  mode, _ = stats.mode(_y[neigh_ind, k], axis=1)\n",
      "/Users/svinayachanta/opt/anaconda3/lib/python3.9/site-packages/sklearn/neighbors/_classification.py:228: FutureWarning: Unlike other reduction functions (e.g. `skew`, `kurtosis`), the default behavior of `mode` typically preserves the axis it acts along. In SciPy 1.11.0, this behavior will change: the default value of `keepdims` will become False, the `axis` over which the statistic is taken will be eliminated, and the value None will no longer be accepted. Set `keepdims` to True or False to avoid this warning.\n",
      "  mode, _ = stats.mode(_y[neigh_ind, k], axis=1)\n",
      "/Users/svinayachanta/opt/anaconda3/lib/python3.9/site-packages/sklearn/neighbors/_classification.py:228: FutureWarning: Unlike other reduction functions (e.g. `skew`, `kurtosis`), the default behavior of `mode` typically preserves the axis it acts along. In SciPy 1.11.0, this behavior will change: the default value of `keepdims` will become False, the `axis` over which the statistic is taken will be eliminated, and the value None will no longer be accepted. Set `keepdims` to True or False to avoid this warning.\n",
      "  mode, _ = stats.mode(_y[neigh_ind, k], axis=1)\n",
      "/Users/svinayachanta/opt/anaconda3/lib/python3.9/site-packages/sklearn/neighbors/_classification.py:228: FutureWarning: Unlike other reduction functions (e.g. `skew`, `kurtosis`), the default behavior of `mode` typically preserves the axis it acts along. In SciPy 1.11.0, this behavior will change: the default value of `keepdims` will become False, the `axis` over which the statistic is taken will be eliminated, and the value None will no longer be accepted. Set `keepdims` to True or False to avoid this warning.\n",
      "  mode, _ = stats.mode(_y[neigh_ind, k], axis=1)\n",
      "/Users/svinayachanta/opt/anaconda3/lib/python3.9/site-packages/sklearn/neighbors/_classification.py:228: FutureWarning: Unlike other reduction functions (e.g. `skew`, `kurtosis`), the default behavior of `mode` typically preserves the axis it acts along. In SciPy 1.11.0, this behavior will change: the default value of `keepdims` will become False, the `axis` over which the statistic is taken will be eliminated, and the value None will no longer be accepted. Set `keepdims` to True or False to avoid this warning.\n",
      "  mode, _ = stats.mode(_y[neigh_ind, k], axis=1)\n",
      "/Users/svinayachanta/opt/anaconda3/lib/python3.9/site-packages/sklearn/neighbors/_classification.py:228: FutureWarning: Unlike other reduction functions (e.g. `skew`, `kurtosis`), the default behavior of `mode` typically preserves the axis it acts along. In SciPy 1.11.0, this behavior will change: the default value of `keepdims` will become False, the `axis` over which the statistic is taken will be eliminated, and the value None will no longer be accepted. Set `keepdims` to True or False to avoid this warning.\n",
      "  mode, _ = stats.mode(_y[neigh_ind, k], axis=1)\n",
      "/Users/svinayachanta/opt/anaconda3/lib/python3.9/site-packages/sklearn/neighbors/_classification.py:228: FutureWarning: Unlike other reduction functions (e.g. `skew`, `kurtosis`), the default behavior of `mode` typically preserves the axis it acts along. In SciPy 1.11.0, this behavior will change: the default value of `keepdims` will become False, the `axis` over which the statistic is taken will be eliminated, and the value None will no longer be accepted. Set `keepdims` to True or False to avoid this warning.\n",
      "  mode, _ = stats.mode(_y[neigh_ind, k], axis=1)\n",
      "/Users/svinayachanta/opt/anaconda3/lib/python3.9/site-packages/sklearn/neighbors/_classification.py:228: FutureWarning: Unlike other reduction functions (e.g. `skew`, `kurtosis`), the default behavior of `mode` typically preserves the axis it acts along. In SciPy 1.11.0, this behavior will change: the default value of `keepdims` will become False, the `axis` over which the statistic is taken will be eliminated, and the value None will no longer be accepted. Set `keepdims` to True or False to avoid this warning.\n",
      "  mode, _ = stats.mode(_y[neigh_ind, k], axis=1)\n",
      "/Users/svinayachanta/opt/anaconda3/lib/python3.9/site-packages/sklearn/neighbors/_classification.py:228: FutureWarning: Unlike other reduction functions (e.g. `skew`, `kurtosis`), the default behavior of `mode` typically preserves the axis it acts along. In SciPy 1.11.0, this behavior will change: the default value of `keepdims` will become False, the `axis` over which the statistic is taken will be eliminated, and the value None will no longer be accepted. Set `keepdims` to True or False to avoid this warning.\n",
      "  mode, _ = stats.mode(_y[neigh_ind, k], axis=1)\n",
      "/Users/svinayachanta/opt/anaconda3/lib/python3.9/site-packages/sklearn/neighbors/_classification.py:228: FutureWarning: Unlike other reduction functions (e.g. `skew`, `kurtosis`), the default behavior of `mode` typically preserves the axis it acts along. In SciPy 1.11.0, this behavior will change: the default value of `keepdims` will become False, the `axis` over which the statistic is taken will be eliminated, and the value None will no longer be accepted. Set `keepdims` to True or False to avoid this warning.\n",
      "  mode, _ = stats.mode(_y[neigh_ind, k], axis=1)\n",
      "/Users/svinayachanta/opt/anaconda3/lib/python3.9/site-packages/sklearn/neighbors/_classification.py:228: FutureWarning: Unlike other reduction functions (e.g. `skew`, `kurtosis`), the default behavior of `mode` typically preserves the axis it acts along. In SciPy 1.11.0, this behavior will change: the default value of `keepdims` will become False, the `axis` over which the statistic is taken will be eliminated, and the value None will no longer be accepted. Set `keepdims` to True or False to avoid this warning.\n",
      "  mode, _ = stats.mode(_y[neigh_ind, k], axis=1)\n",
      "/Users/svinayachanta/opt/anaconda3/lib/python3.9/site-packages/sklearn/neighbors/_classification.py:228: FutureWarning: Unlike other reduction functions (e.g. `skew`, `kurtosis`), the default behavior of `mode` typically preserves the axis it acts along. In SciPy 1.11.0, this behavior will change: the default value of `keepdims` will become False, the `axis` over which the statistic is taken will be eliminated, and the value None will no longer be accepted. Set `keepdims` to True or False to avoid this warning.\n",
      "  mode, _ = stats.mode(_y[neigh_ind, k], axis=1)\n",
      "/Users/svinayachanta/opt/anaconda3/lib/python3.9/site-packages/sklearn/neighbors/_classification.py:228: FutureWarning: Unlike other reduction functions (e.g. `skew`, `kurtosis`), the default behavior of `mode` typically preserves the axis it acts along. In SciPy 1.11.0, this behavior will change: the default value of `keepdims` will become False, the `axis` over which the statistic is taken will be eliminated, and the value None will no longer be accepted. Set `keepdims` to True or False to avoid this warning.\n",
      "  mode, _ = stats.mode(_y[neigh_ind, k], axis=1)\n",
      "/Users/svinayachanta/opt/anaconda3/lib/python3.9/site-packages/sklearn/neighbors/_classification.py:228: FutureWarning: Unlike other reduction functions (e.g. `skew`, `kurtosis`), the default behavior of `mode` typically preserves the axis it acts along. In SciPy 1.11.0, this behavior will change: the default value of `keepdims` will become False, the `axis` over which the statistic is taken will be eliminated, and the value None will no longer be accepted. Set `keepdims` to True or False to avoid this warning.\n",
      "  mode, _ = stats.mode(_y[neigh_ind, k], axis=1)\n",
      "/Users/svinayachanta/opt/anaconda3/lib/python3.9/site-packages/sklearn/neighbors/_classification.py:228: FutureWarning: Unlike other reduction functions (e.g. `skew`, `kurtosis`), the default behavior of `mode` typically preserves the axis it acts along. In SciPy 1.11.0, this behavior will change: the default value of `keepdims` will become False, the `axis` over which the statistic is taken will be eliminated, and the value None will no longer be accepted. Set `keepdims` to True or False to avoid this warning.\n",
      "  mode, _ = stats.mode(_y[neigh_ind, k], axis=1)\n",
      "/Users/svinayachanta/opt/anaconda3/lib/python3.9/site-packages/sklearn/neighbors/_classification.py:228: FutureWarning: Unlike other reduction functions (e.g. `skew`, `kurtosis`), the default behavior of `mode` typically preserves the axis it acts along. In SciPy 1.11.0, this behavior will change: the default value of `keepdims` will become False, the `axis` over which the statistic is taken will be eliminated, and the value None will no longer be accepted. Set `keepdims` to True or False to avoid this warning.\n",
      "  mode, _ = stats.mode(_y[neigh_ind, k], axis=1)\n",
      "/Users/svinayachanta/opt/anaconda3/lib/python3.9/site-packages/sklearn/neighbors/_classification.py:228: FutureWarning: Unlike other reduction functions (e.g. `skew`, `kurtosis`), the default behavior of `mode` typically preserves the axis it acts along. In SciPy 1.11.0, this behavior will change: the default value of `keepdims` will become False, the `axis` over which the statistic is taken will be eliminated, and the value None will no longer be accepted. Set `keepdims` to True or False to avoid this warning.\n",
      "  mode, _ = stats.mode(_y[neigh_ind, k], axis=1)\n",
      "/Users/svinayachanta/opt/anaconda3/lib/python3.9/site-packages/sklearn/neighbors/_classification.py:228: FutureWarning: Unlike other reduction functions (e.g. `skew`, `kurtosis`), the default behavior of `mode` typically preserves the axis it acts along. In SciPy 1.11.0, this behavior will change: the default value of `keepdims` will become False, the `axis` over which the statistic is taken will be eliminated, and the value None will no longer be accepted. Set `keepdims` to True or False to avoid this warning.\n",
      "  mode, _ = stats.mode(_y[neigh_ind, k], axis=1)\n",
      "/Users/svinayachanta/opt/anaconda3/lib/python3.9/site-packages/sklearn/neighbors/_classification.py:228: FutureWarning: Unlike other reduction functions (e.g. `skew`, `kurtosis`), the default behavior of `mode` typically preserves the axis it acts along. In SciPy 1.11.0, this behavior will change: the default value of `keepdims` will become False, the `axis` over which the statistic is taken will be eliminated, and the value None will no longer be accepted. Set `keepdims` to True or False to avoid this warning.\n",
      "  mode, _ = stats.mode(_y[neigh_ind, k], axis=1)\n",
      "/Users/svinayachanta/opt/anaconda3/lib/python3.9/site-packages/sklearn/neighbors/_classification.py:228: FutureWarning: Unlike other reduction functions (e.g. `skew`, `kurtosis`), the default behavior of `mode` typically preserves the axis it acts along. In SciPy 1.11.0, this behavior will change: the default value of `keepdims` will become False, the `axis` over which the statistic is taken will be eliminated, and the value None will no longer be accepted. Set `keepdims` to True or False to avoid this warning.\n",
      "  mode, _ = stats.mode(_y[neigh_ind, k], axis=1)\n",
      "/Users/svinayachanta/opt/anaconda3/lib/python3.9/site-packages/sklearn/neighbors/_classification.py:228: FutureWarning: Unlike other reduction functions (e.g. `skew`, `kurtosis`), the default behavior of `mode` typically preserves the axis it acts along. In SciPy 1.11.0, this behavior will change: the default value of `keepdims` will become False, the `axis` over which the statistic is taken will be eliminated, and the value None will no longer be accepted. Set `keepdims` to True or False to avoid this warning.\n",
      "  mode, _ = stats.mode(_y[neigh_ind, k], axis=1)\n",
      "/Users/svinayachanta/opt/anaconda3/lib/python3.9/site-packages/sklearn/neighbors/_classification.py:228: FutureWarning: Unlike other reduction functions (e.g. `skew`, `kurtosis`), the default behavior of `mode` typically preserves the axis it acts along. In SciPy 1.11.0, this behavior will change: the default value of `keepdims` will become False, the `axis` over which the statistic is taken will be eliminated, and the value None will no longer be accepted. Set `keepdims` to True or False to avoid this warning.\n",
      "  mode, _ = stats.mode(_y[neigh_ind, k], axis=1)\n",
      "/Users/svinayachanta/opt/anaconda3/lib/python3.9/site-packages/sklearn/neighbors/_classification.py:228: FutureWarning: Unlike other reduction functions (e.g. `skew`, `kurtosis`), the default behavior of `mode` typically preserves the axis it acts along. In SciPy 1.11.0, this behavior will change: the default value of `keepdims` will become False, the `axis` over which the statistic is taken will be eliminated, and the value None will no longer be accepted. Set `keepdims` to True or False to avoid this warning.\n",
      "  mode, _ = stats.mode(_y[neigh_ind, k], axis=1)\n",
      "/Users/svinayachanta/opt/anaconda3/lib/python3.9/site-packages/sklearn/neighbors/_classification.py:228: FutureWarning: Unlike other reduction functions (e.g. `skew`, `kurtosis`), the default behavior of `mode` typically preserves the axis it acts along. In SciPy 1.11.0, this behavior will change: the default value of `keepdims` will become False, the `axis` over which the statistic is taken will be eliminated, and the value None will no longer be accepted. Set `keepdims` to True or False to avoid this warning.\n",
      "  mode, _ = stats.mode(_y[neigh_ind, k], axis=1)\n",
      "/Users/svinayachanta/opt/anaconda3/lib/python3.9/site-packages/sklearn/neighbors/_classification.py:228: FutureWarning: Unlike other reduction functions (e.g. `skew`, `kurtosis`), the default behavior of `mode` typically preserves the axis it acts along. In SciPy 1.11.0, this behavior will change: the default value of `keepdims` will become False, the `axis` over which the statistic is taken will be eliminated, and the value None will no longer be accepted. Set `keepdims` to True or False to avoid this warning.\n",
      "  mode, _ = stats.mode(_y[neigh_ind, k], axis=1)\n",
      "/Users/svinayachanta/opt/anaconda3/lib/python3.9/site-packages/sklearn/neighbors/_classification.py:228: FutureWarning: Unlike other reduction functions (e.g. `skew`, `kurtosis`), the default behavior of `mode` typically preserves the axis it acts along. In SciPy 1.11.0, this behavior will change: the default value of `keepdims` will become False, the `axis` over which the statistic is taken will be eliminated, and the value None will no longer be accepted. Set `keepdims` to True or False to avoid this warning.\n",
      "  mode, _ = stats.mode(_y[neigh_ind, k], axis=1)\n",
      "/Users/svinayachanta/opt/anaconda3/lib/python3.9/site-packages/sklearn/neighbors/_classification.py:228: FutureWarning: Unlike other reduction functions (e.g. `skew`, `kurtosis`), the default behavior of `mode` typically preserves the axis it acts along. In SciPy 1.11.0, this behavior will change: the default value of `keepdims` will become False, the `axis` over which the statistic is taken will be eliminated, and the value None will no longer be accepted. Set `keepdims` to True or False to avoid this warning.\n",
      "  mode, _ = stats.mode(_y[neigh_ind, k], axis=1)\n",
      "/Users/svinayachanta/opt/anaconda3/lib/python3.9/site-packages/sklearn/neighbors/_classification.py:228: FutureWarning: Unlike other reduction functions (e.g. `skew`, `kurtosis`), the default behavior of `mode` typically preserves the axis it acts along. In SciPy 1.11.0, this behavior will change: the default value of `keepdims` will become False, the `axis` over which the statistic is taken will be eliminated, and the value None will no longer be accepted. Set `keepdims` to True or False to avoid this warning.\n",
      "  mode, _ = stats.mode(_y[neigh_ind, k], axis=1)\n",
      "/Users/svinayachanta/opt/anaconda3/lib/python3.9/site-packages/sklearn/neighbors/_classification.py:228: FutureWarning: Unlike other reduction functions (e.g. `skew`, `kurtosis`), the default behavior of `mode` typically preserves the axis it acts along. In SciPy 1.11.0, this behavior will change: the default value of `keepdims` will become False, the `axis` over which the statistic is taken will be eliminated, and the value None will no longer be accepted. Set `keepdims` to True or False to avoid this warning.\n",
      "  mode, _ = stats.mode(_y[neigh_ind, k], axis=1)\n"
     ]
    },
    {
     "data": {
      "text/html": [
       "<div>\n",
       "<style scoped>\n",
       "    .dataframe tbody tr th:only-of-type {\n",
       "        vertical-align: middle;\n",
       "    }\n",
       "\n",
       "    .dataframe tbody tr th {\n",
       "        vertical-align: top;\n",
       "    }\n",
       "\n",
       "    .dataframe thead th {\n",
       "        text-align: right;\n",
       "    }\n",
       "</style>\n",
       "<table border=\"1\" class=\"dataframe\">\n",
       "  <thead>\n",
       "    <tr style=\"text-align: right;\">\n",
       "      <th></th>\n",
       "      <th>K-Value</th>\n",
       "      <th>Avg_Cross_Acc</th>\n",
       "    </tr>\n",
       "  </thead>\n",
       "  <tbody>\n",
       "    <tr>\n",
       "      <th>0</th>\n",
       "      <td>1</td>\n",
       "      <td>0.936697</td>\n",
       "    </tr>\n",
       "    <tr>\n",
       "      <th>1</th>\n",
       "      <td>2</td>\n",
       "      <td>0.944049</td>\n",
       "    </tr>\n",
       "    <tr>\n",
       "      <th>2</th>\n",
       "      <td>3</td>\n",
       "      <td>0.943641</td>\n",
       "    </tr>\n",
       "    <tr>\n",
       "      <th>3</th>\n",
       "      <td>4</td>\n",
       "      <td>0.945411</td>\n",
       "    </tr>\n",
       "    <tr>\n",
       "      <th>4</th>\n",
       "      <td>5</td>\n",
       "      <td>0.947997</td>\n",
       "    </tr>\n",
       "    <tr>\n",
       "      <th>5</th>\n",
       "      <td>10</td>\n",
       "      <td>0.951265</td>\n",
       "    </tr>\n",
       "    <tr>\n",
       "      <th>6</th>\n",
       "      <td>15</td>\n",
       "      <td>0.961476</td>\n",
       "    </tr>\n",
       "  </tbody>\n",
       "</table>\n",
       "</div>"
      ],
      "text/plain": [
       "   K-Value  Avg_Cross_Acc\n",
       "0        1       0.936697\n",
       "1        2       0.944049\n",
       "2        3       0.943641\n",
       "3        4       0.945411\n",
       "4        5       0.947997\n",
       "5       10       0.951265\n",
       "6       15       0.961476"
      ]
     },
     "execution_count": 5,
     "metadata": {},
     "output_type": "execute_result"
    }
   ],
   "source": [
    "def kn(data):\n",
    "    kneighbors = [1, 2, 3, 4, 5, 10, 15]\n",
    "    results = []\n",
    "    for k in kneighbors:\n",
    "        clf = KNeighborsClassifier(n_neighbors=k)\n",
    "        scores = cross_val_score(clf, X, Y, cv=5)\n",
    "        mean_score = scores.mean()\n",
    "        results.append((k, mean_score)) \n",
    "    res_df = pd.DataFrame(results, columns=['K-Value', 'Avg_Cross_Acc'])\n",
    "    return res_df\n",
    "\n",
    "knn_res = kn(data)\n",
    "knn_res"
   ]
  },
  {
   "cell_type": "code",
   "execution_count": 6,
   "id": "06bb6a68",
   "metadata": {},
   "outputs": [
    {
     "data": {
      "image/png": "[encoded data removed]",
      "text/plain": [
       "<Figure size 300x200 with 1 Axes>"
      ]
     },
     "metadata": {},
     "output_type": "display_data"
    }
   ],
   "source": [
    "plt.figure(figsize=(3,2))\n",
    "sns.lineplot(data=knn_res, x='K-Value', y='Avg_Cross_Acc')\n",
    "plt.title('K-Value and Average Cross Validation Accuracy')\n",
    "plt.xlabel('K-Value')\n",
    "plt.ylabel('Cross Validation Accuracy')\n",
    "plt.show()"
   ]
  },
  {
   "cell_type": "markdown",
   "id": "c6ea28bb",
   "metadata": {},
   "source": [
    "### iii. Logistic regression (LR) (C = 0.001, 0.01, 0.1, 0.5, 1)"
   ]
  },
  {
   "cell_type": "code",
   "execution_count": 7,
   "id": "d6a5ae6b",
   "metadata": {},
   "outputs": [
    {
     "data": {
      "text/html": [
       "<div>\n",
       "<style scoped>\n",
       "    .dataframe tbody tr th:only-of-type {\n",
       "        vertical-align: middle;\n",
       "    }\n",
       "\n",
       "    .dataframe tbody tr th {\n",
       "        vertical-align: top;\n",
       "    }\n",
       "\n",
       "    .dataframe thead th {\n",
       "        text-align: right;\n",
       "    }\n",
       "</style>\n",
       "<table border=\"1\" class=\"dataframe\">\n",
       "  <thead>\n",
       "    <tr style=\"text-align: right;\">\n",
       "      <th></th>\n",
       "      <th>C-Value</th>\n",
       "      <th>Avg_Cross_Acc</th>\n",
       "    </tr>\n",
       "  </thead>\n",
       "  <tbody>\n",
       "    <tr>\n",
       "      <th>0</th>\n",
       "      <td>0.001</td>\n",
       "      <td>0.984757</td>\n",
       "    </tr>\n",
       "    <tr>\n",
       "      <th>1</th>\n",
       "      <td>0.010</td>\n",
       "      <td>0.983940</td>\n",
       "    </tr>\n",
       "    <tr>\n",
       "      <th>2</th>\n",
       "      <td>0.100</td>\n",
       "      <td>0.981898</td>\n",
       "    </tr>\n",
       "    <tr>\n",
       "      <th>3</th>\n",
       "      <td>0.500</td>\n",
       "      <td>0.985438</td>\n",
       "    </tr>\n",
       "    <tr>\n",
       "      <th>4</th>\n",
       "      <td>1.000</td>\n",
       "      <td>0.981081</td>\n",
       "    </tr>\n",
       "  </tbody>\n",
       "</table>\n",
       "</div>"
      ],
      "text/plain": [
       "   C-Value  Avg_Cross_Acc\n",
       "0    0.001       0.984757\n",
       "1    0.010       0.983940\n",
       "2    0.100       0.981898\n",
       "3    0.500       0.985438\n",
       "4    1.000       0.981081"
      ]
     },
     "execution_count": 7,
     "metadata": {},
     "output_type": "execute_result"
    }
   ],
   "source": [
    "def lr(data):\n",
    "    c_val = [0.001, 0.01, 0.1, 0.5, 1]\n",
    "    results = []\n",
    "    for cv in c_val:\n",
    "        clf = LogisticRegression(C=cv)\n",
    "        scores = cross_val_score(clf, X, Y, cv=5)\n",
    "        mean_score = scores.mean()\n",
    "        results.append((cv, mean_score)) \n",
    "    res_df = pd.DataFrame(results, columns=['C-Value', 'Avg_Cross_Acc'])\n",
    "    return res_df\n",
    "\n",
    "lr_res = lr(data)\n",
    "lr_res"
   ]
  },
  {
   "cell_type": "code",
   "execution_count": 8,
   "id": "2523c690",
   "metadata": {},
   "outputs": [
    {
     "data": {
      "image/png": "[encoded data removed]",
      "text/plain": [
       "<Figure size 300x200 with 1 Axes>"
      ]
     },
     "metadata": {},
     "output_type": "display_data"
    }
   ],
   "source": [
    "plt.figure(figsize=(3,2))\n",
    "sns.lineplot(data=lr_res, x='C-Value', y='Avg_Cross_Acc')\n",
    "plt.title('C-Value and Average Cross Validation Accuracy')\n",
    "plt.xlabel('C-Value')\n",
    "plt.ylabel('Cross Validation Accuracy ')\n",
    "plt.show()"
   ]
  },
  {
   "cell_type": "markdown",
   "id": "169e86bf",
   "metadata": {},
   "source": [
    "### (b) Use the plot to choose the hyperparameter with the highest average accuracy."
   ]
  },
  {
   "cell_type": "code",
   "execution_count": 9,
   "id": "99159a82",
   "metadata": {},
   "outputs": [
    {
     "data": {
      "text/html": [
       "<div>\n",
       "<style scoped>\n",
       "    .dataframe tbody tr th:only-of-type {\n",
       "        vertical-align: middle;\n",
       "    }\n",
       "\n",
       "    .dataframe tbody tr th {\n",
       "        vertical-align: top;\n",
       "    }\n",
       "\n",
       "    .dataframe thead th {\n",
       "        text-align: right;\n",
       "    }\n",
       "</style>\n",
       "<table border=\"1\" class=\"dataframe\">\n",
       "  <thead>\n",
       "    <tr style=\"text-align: right;\">\n",
       "      <th></th>\n",
       "      <th>Depth</th>\n",
       "      <th>Avg_Cross_Acc</th>\n",
       "    </tr>\n",
       "  </thead>\n",
       "  <tbody>\n",
       "    <tr>\n",
       "      <th>0</th>\n",
       "      <td>1</td>\n",
       "      <td>0.975499</td>\n",
       "    </tr>\n",
       "  </tbody>\n",
       "</table>\n",
       "</div>"
      ],
      "text/plain": [
       "   Depth  Avg_Cross_Acc\n",
       "0      1       0.975499"
      ]
     },
     "execution_count": 9,
     "metadata": {},
     "output_type": "execute_result"
    }
   ],
   "source": [
    "Decision_Tree = dt_res.sort_values(by='Avg_Cross_Acc', ascending=False)\n",
    "Decision_Tree.head(1)"
   ]
  },
  {
   "cell_type": "code",
   "execution_count": 10,
   "id": "cb7dd59e",
   "metadata": {},
   "outputs": [
    {
     "data": {
      "text/html": [
       "<div>\n",
       "<style scoped>\n",
       "    .dataframe tbody tr th:only-of-type {\n",
       "        vertical-align: middle;\n",
       "    }\n",
       "\n",
       "    .dataframe tbody tr th {\n",
       "        vertical-align: top;\n",
       "    }\n",
       "\n",
       "    .dataframe thead th {\n",
       "        text-align: right;\n",
       "    }\n",
       "</style>\n",
       "<table border=\"1\" class=\"dataframe\">\n",
       "  <thead>\n",
       "    <tr style=\"text-align: right;\">\n",
       "      <th></th>\n",
       "      <th>K-Value</th>\n",
       "      <th>Avg_Cross_Acc</th>\n",
       "    </tr>\n",
       "  </thead>\n",
       "  <tbody>\n",
       "    <tr>\n",
       "      <th>6</th>\n",
       "      <td>15</td>\n",
       "      <td>0.961476</td>\n",
       "    </tr>\n",
       "  </tbody>\n",
       "</table>\n",
       "</div>"
      ],
      "text/plain": [
       "   K-Value  Avg_Cross_Acc\n",
       "6       15       0.961476"
      ]
     },
     "execution_count": 10,
     "metadata": {},
     "output_type": "execute_result"
    }
   ],
   "source": [
    "K_Neighbour = knn_res.sort_values(by='Avg_Cross_Acc', ascending=False)\n",
    "K_Neighbour.head(1)"
   ]
  },
  {
   "cell_type": "code",
   "execution_count": 11,
   "id": "0c79e4be",
   "metadata": {},
   "outputs": [
    {
     "data": {
      "text/html": [
       "<div>\n",
       "<style scoped>\n",
       "    .dataframe tbody tr th:only-of-type {\n",
       "        vertical-align: middle;\n",
       "    }\n",
       "\n",
       "    .dataframe tbody tr th {\n",
       "        vertical-align: top;\n",
       "    }\n",
       "\n",
       "    .dataframe thead th {\n",
       "        text-align: right;\n",
       "    }\n",
       "</style>\n",
       "<table border=\"1\" class=\"dataframe\">\n",
       "  <thead>\n",
       "    <tr style=\"text-align: right;\">\n",
       "      <th></th>\n",
       "      <th>C-Value</th>\n",
       "      <th>Avg_Cross_Acc</th>\n",
       "    </tr>\n",
       "  </thead>\n",
       "  <tbody>\n",
       "    <tr>\n",
       "      <th>3</th>\n",
       "      <td>0.5</td>\n",
       "      <td>0.985438</td>\n",
       "    </tr>\n",
       "  </tbody>\n",
       "</table>\n",
       "</div>"
      ],
      "text/plain": [
       "   C-Value  Avg_Cross_Acc\n",
       "3      0.5       0.985438"
      ]
     },
     "execution_count": 11,
     "metadata": {},
     "output_type": "execute_result"
    }
   ],
   "source": [
    "Logistic_Regression = lr_res.sort_values(by='Avg_Cross_Acc', ascending=False)\n",
    "Logistic_Regression.head(1)"
   ]
  },
  {
   "cell_type": "markdown",
   "id": "125ed2be",
   "metadata": {},
   "source": [
    "As we can see from the above result that Decision Tree gets highest Average Accuracy with Depth 1, K_Neighbour gets highest Average Accuracy with K-Value 15, Logistic Regression gets highest Average Accuracy with C-Value 0.5. "
   ]
  },
  {
   "cell_type": "markdown",
   "id": "8ce7dec9",
   "metadata": {},
   "source": [
    "### (c) For each method above, train a model on the entire train office.csv set with the hyperparameter you had chosen from the previous step."
   ]
  },
  {
   "cell_type": "code",
   "execution_count": 12,
   "id": "5957f31a",
   "metadata": {},
   "outputs": [
    {
     "data": {
      "text/plain": [
       "DecisionTreeClassifier(max_depth=1)"
      ]
     },
     "execution_count": 12,
     "metadata": {},
     "output_type": "execute_result"
    }
   ],
   "source": [
    "dt_clf = tree.DecisionTreeClassifier(max_depth=1)\n",
    "dt_clf.fit(X, Y)"
   ]
  },
  {
   "cell_type": "code",
   "execution_count": 13,
   "id": "b5114251",
   "metadata": {},
   "outputs": [
    {
     "data": {
      "text/plain": [
       "KNeighborsClassifier(n_neighbors=15)"
      ]
     },
     "execution_count": 13,
     "metadata": {},
     "output_type": "execute_result"
    }
   ],
   "source": [
    "knn_clf = KNeighborsClassifier(n_neighbors=15)\n",
    "knn_clf.fit(X, Y)"
   ]
  },
  {
   "cell_type": "code",
   "execution_count": 14,
   "id": "d09b54de",
   "metadata": {},
   "outputs": [
    {
     "data": {
      "text/plain": [
       "LogisticRegression(C=0.5)"
      ]
     },
     "execution_count": 14,
     "metadata": {},
     "output_type": "execute_result"
    }
   ],
   "source": [
    "lr_clf = LogisticRegression(C=0.5)\n",
    "lr_clf.fit(X, Y)"
   ]
  },
  {
   "cell_type": "markdown",
   "id": "41aa8cc2",
   "metadata": {},
   "source": [
    "### (d) Predict labels of test samples in the test office.csv using the best classifiers you built in the previous step. Then, perform the followings:"
   ]
  },
  {
   "cell_type": "code",
   "execution_count": 15,
   "id": "b8806b99",
   "metadata": {},
   "outputs": [
    {
     "data": {
      "text/html": [
       "<div>\n",
       "<style scoped>\n",
       "    .dataframe tbody tr th:only-of-type {\n",
       "        vertical-align: middle;\n",
       "    }\n",
       "\n",
       "    .dataframe tbody tr th {\n",
       "        vertical-align: top;\n",
       "    }\n",
       "\n",
       "    .dataframe thead th {\n",
       "        text-align: right;\n",
       "    }\n",
       "</style>\n",
       "<table border=\"1\" class=\"dataframe\">\n",
       "  <thead>\n",
       "    <tr style=\"text-align: right;\">\n",
       "      <th></th>\n",
       "      <th>Temperature</th>\n",
       "      <th>Humidity</th>\n",
       "      <th>Light</th>\n",
       "      <th>CO2</th>\n",
       "      <th>HumidityRatio</th>\n",
       "      <th>Occupancy</th>\n",
       "    </tr>\n",
       "  </thead>\n",
       "  <tbody>\n",
       "    <tr>\n",
       "      <th>0</th>\n",
       "      <td>23.00</td>\n",
       "      <td>27.200</td>\n",
       "      <td>0.0</td>\n",
       "      <td>681.5</td>\n",
       "      <td>0.004728</td>\n",
       "      <td>0</td>\n",
       "    </tr>\n",
       "    <tr>\n",
       "      <th>1</th>\n",
       "      <td>22.79</td>\n",
       "      <td>27.445</td>\n",
       "      <td>0.0</td>\n",
       "      <td>689.0</td>\n",
       "      <td>0.004710</td>\n",
       "      <td>0</td>\n",
       "    </tr>\n",
       "  </tbody>\n",
       "</table>\n",
       "</div>"
      ],
      "text/plain": [
       "   Temperature  Humidity  Light    CO2  HumidityRatio  Occupancy\n",
       "0        23.00    27.200    0.0  681.5       0.004728          0\n",
       "1        22.79    27.445    0.0  689.0       0.004710          0"
      ]
     },
     "execution_count": 15,
     "metadata": {},
     "output_type": "execute_result"
    }
   ],
   "source": [
    "data_test = pd.read_csv('test_office.csv')\n",
    "data_test = data_test.drop('date', axis=1)\n",
    "X_T = data_test.drop('Occupancy', axis=1)\n",
    "Y_T = data_test['Occupancy']\n",
    "data_test.head(2)"
   ]
  },
  {
   "cell_type": "markdown",
   "id": "1477b39d",
   "metadata": {},
   "source": [
    "### i. Print out the confusion matrices (for DT, KNN, and LR)."
   ]
  },
  {
   "cell_type": "code",
   "execution_count": 16,
   "id": "fa0c21f4",
   "metadata": {},
   "outputs": [
    {
     "data": {
      "text/plain": [
       "array([[641,   6],\n",
       "       [  1, 149]])"
      ]
     },
     "execution_count": 16,
     "metadata": {},
     "output_type": "execute_result"
    }
   ],
   "source": [
    "dt_clf = tree.DecisionTreeClassifier(max_depth=1) \n",
    "dt_clf.fit(X, Y)\n",
    "DT_Y_pred = dt_clf.predict(X_T)\n",
    "DT_Y_pred_prob = dt_clf.predict_proba(X_T)\n",
    "DT_confusion_matrix = confusion_matrix(Y_T, DT_Y_pred)\n",
    "DT_precision = precision_score(Y_T, DT_Y_pred)\n",
    "DT_recall = recall_score(Y_T, DT_Y_pred)\n",
    "DT_f1_score = f1_score(Y_T, DT_Y_pred, average='weighted')\n",
    "DT_df = pd.DataFrame({'Model': ['Decision Tree'],'Precision-Score': [DT_precision],'Recall-Score': [DT_recall],'F1-Score': [DT_f1_score]})\n",
    "DT_confusion_matrix"
   ]
  },
  {
   "cell_type": "code",
   "execution_count": 17,
   "id": "d58e3a92",
   "metadata": {},
   "outputs": [
    {
     "name": "stderr",
     "output_type": "stream",
     "text": [
      "/Users/svinayachanta/opt/anaconda3/lib/python3.9/site-packages/sklearn/neighbors/_classification.py:228: FutureWarning: Unlike other reduction functions (e.g. `skew`, `kurtosis`), the default behavior of `mode` typically preserves the axis it acts along. In SciPy 1.11.0, this behavior will change: the default value of `keepdims` will become False, the `axis` over which the statistic is taken will be eliminated, and the value None will no longer be accepted. Set `keepdims` to True or False to avoid this warning.\n",
      "  mode, _ = stats.mode(_y[neigh_ind, k], axis=1)\n"
     ]
    },
    {
     "data": {
      "text/plain": [
       "array([[641,   6],\n",
       "       [  1, 149]])"
      ]
     },
     "execution_count": 17,
     "metadata": {},
     "output_type": "execute_result"
    }
   ],
   "source": [
    "knn_clf = KNeighborsClassifier(n_neighbors=15)\n",
    "knn_clf.fit(X, Y)\n",
    "KNN_Y_pred = knn_clf.predict(X_T)\n",
    "KNN_Y_pred_prob = knn_clf.predict_proba(X_T)\n",
    "KNN_confusion_matrix = confusion_matrix(Y_T, KNN_Y_pred)\n",
    "KNN_precision = precision_score(Y_T, KNN_Y_pred)\n",
    "KNN_recall = recall_score(Y_T, KNN_Y_pred)\n",
    "KNN_f1_score = f1_score(Y_T, KNN_Y_pred, average='weighted')\n",
    "KNN_df = pd.DataFrame({'Model': ['KNN'],'Precision-Score': [KNN_precision],'Recall-Score': [KNN_recall],'F1-Score': [KNN_f1_score]})\n",
    "KNN_confusion_matrix"
   ]
  },
  {
   "cell_type": "code",
   "execution_count": 18,
   "id": "304c910b",
   "metadata": {},
   "outputs": [
    {
     "data": {
      "text/plain": [
       "array([[641,   6],\n",
       "       [  0, 150]])"
      ]
     },
     "execution_count": 18,
     "metadata": {},
     "output_type": "execute_result"
    }
   ],
   "source": [
    "lr_clf = LogisticRegression(C=0.5) \n",
    "lr_clf.fit(X, Y)\n",
    "LR_Y_pred = lr_clf.predict(X_T)\n",
    "LR_Y_pred_prob = lr_clf.predict_proba(X_T)\n",
    "LR_confusion_matrix = confusion_matrix(Y_T, LR_Y_pred)\n",
    "LR_precision = precision_score(Y_T, LR_Y_pred)\n",
    "LR_recall = recall_score(Y_T, LR_Y_pred)\n",
    "LR_f1_score = f1_score(Y_T, LR_Y_pred, average='weighted')\n",
    "LR_df = pd.DataFrame({'Model': ['Logistic Regression'],'Precision-Score': [LR_precision],'Recall-Score': [LR_recall],'F1-Score': [LR_f1_score]})\n",
    "LR_confusion_matrix"
   ]
  },
  {
   "cell_type": "markdown",
   "id": "e4198fa4",
   "metadata": {},
   "source": [
    "### ii. Draw a bar plot showing precision, recall, F1-score of the three classifiers. For the F1-score, you can use ‘weighted’."
   ]
  },
  {
   "cell_type": "code",
   "execution_count": 19,
   "id": "ab3ba3d9",
   "metadata": {},
   "outputs": [
    {
     "data": {
      "text/html": [
       "<div>\n",
       "<style scoped>\n",
       "    .dataframe tbody tr th:only-of-type {\n",
       "        vertical-align: middle;\n",
       "    }\n",
       "\n",
       "    .dataframe tbody tr th {\n",
       "        vertical-align: top;\n",
       "    }\n",
       "\n",
       "    .dataframe thead th {\n",
       "        text-align: right;\n",
       "    }\n",
       "</style>\n",
       "<table border=\"1\" class=\"dataframe\">\n",
       "  <thead>\n",
       "    <tr style=\"text-align: right;\">\n",
       "      <th></th>\n",
       "      <th>Model</th>\n",
       "      <th>Precision-Score</th>\n",
       "      <th>Recall-Score</th>\n",
       "      <th>F1-Score</th>\n",
       "    </tr>\n",
       "  </thead>\n",
       "  <tbody>\n",
       "    <tr>\n",
       "      <th>0</th>\n",
       "      <td>Decision Tree</td>\n",
       "      <td>0.961290</td>\n",
       "      <td>0.993333</td>\n",
       "      <td>0.991272</td>\n",
       "    </tr>\n",
       "    <tr>\n",
       "      <th>0</th>\n",
       "      <td>KNN</td>\n",
       "      <td>0.961290</td>\n",
       "      <td>0.993333</td>\n",
       "      <td>0.991272</td>\n",
       "    </tr>\n",
       "    <tr>\n",
       "      <th>0</th>\n",
       "      <td>Logistic Regression</td>\n",
       "      <td>0.961538</td>\n",
       "      <td>1.000000</td>\n",
       "      <td>0.992528</td>\n",
       "    </tr>\n",
       "  </tbody>\n",
       "</table>\n",
       "</div>"
      ],
      "text/plain": [
       "                 Model  Precision-Score  Recall-Score  F1-Score\n",
       "0        Decision Tree         0.961290      0.993333  0.991272\n",
       "0                  KNN         0.961290      0.993333  0.991272\n",
       "0  Logistic Regression         0.961538      1.000000  0.992528"
      ]
     },
     "execution_count": 19,
     "metadata": {},
     "output_type": "execute_result"
    }
   ],
   "source": [
    "SCORES_df = pd.concat([DT_df, KNN_df, LR_df], axis=0)\n",
    "SCORES_df"
   ]
  },
  {
   "cell_type": "code",
   "execution_count": 20,
   "id": "9f565f83",
   "metadata": {},
   "outputs": [
    {
     "data": {
      "image/png": "[encoded data removed]",
      "text/plain": [
       "<Figure size 640x480 with 1 Axes>"
      ]
     },
     "metadata": {},
     "output_type": "display_data"
    }
   ],
   "source": [
    "SCORES_df = SCORES_df.set_index('Model')\n",
    "ax = SCORES_df.plot(kind='bar')\n",
    "ax.set(xlabel=\"Model\", ylabel=\"Score\")\n",
    "ax.set_title('Model and Respective Scores in Bar Plot')\n",
    "plt.legend(title='Model')\n",
    "plt.xticks(rotation=360)\n",
    "plt.show()"
   ]
  },
  {
   "cell_type": "markdown",
   "id": "9165d643",
   "metadata": {},
   "source": [
    "### iii. Draw ROC curves of the three classifiers in one graph. In the legend of the graph, include AUCs (area under the curve), e.g., DT (AUC=X), KNN (AUC=X), LR (AUC=X)."
   ]
  },
  {
   "cell_type": "code",
   "execution_count": 21,
   "id": "113b5f8a",
   "metadata": {},
   "outputs": [
    {
     "name": "stdout",
     "output_type": "stream",
     "text": [
      "0.9920298815043791\n",
      "0.9995002575991756\n",
      "0.9974652241112828\n"
     ]
    }
   ],
   "source": [
    "DT_fpr, DT_tpr, DT_thresholds = roc_curve(Y_T, DT_Y_pred_prob[:,1]) \n",
    "DT_roc_auc = auc(DT_fpr, DT_tpr)\n",
    "print(DT_roc_auc)\n",
    "KNN_fpr, KNN_tpr, KNN_thresholds = roc_curve(Y_T, KNN_Y_pred_prob[:,1]) \n",
    "KNN_roc_auc = auc(KNN_fpr, KNN_tpr)\n",
    "print(KNN_roc_auc)\n",
    "LR_fpr, LR_tpr, LR_thresholds = roc_curve(Y_T, LR_Y_pred_prob[:,1]) \n",
    "LR_roc_auc = auc(LR_fpr, LR_tpr)\n",
    "print(LR_roc_auc)"
   ]
  },
  {
   "cell_type": "code",
   "execution_count": 22,
   "id": "eee6973e",
   "metadata": {},
   "outputs": [
    {
     "data": {
      "image/png": "[encoded data removed]",
      "text/plain": [
       "<Figure size 640x480 with 1 Axes>"
      ]
     },
     "metadata": {},
     "output_type": "display_data"
    }
   ],
   "source": [
    "plt.plot(DT_fpr, DT_tpr, label='DT auc = {:.3f}'.format(DT_roc_auc))\n",
    "plt.plot(KNN_fpr, KNN_tpr, label='KNN auc = {:.5f}'.format(KNN_roc_auc))\n",
    "plt.plot(LR_fpr, LR_tpr, label='LR auc = {:.3f}'.format(LR_roc_auc))\n",
    "plt.title('ROC Curve')\n",
    "plt.legend()\n",
    "plt.show()"
   ]
  },
  {
   "cell_type": "markdown",
   "id": "dcea7cb6",
   "metadata": {},
   "source": [
    "### (e) Visualize (plot) the resulting decision tree You need to use tree class from sklearn–See this. Based on this tree, what do you think is the most important feature?"
   ]
  },
  {
   "cell_type": "code",
   "execution_count": 23,
   "id": "78899238",
   "metadata": {},
   "outputs": [
    {
     "data": {
      "text/plain": [
       "[Text(0.5, 0.75, 'Light <= 365.125\\ngini = 0.337\\nsamples = 7346\\nvalue = [5767, 1579]\\nclass = 0'),\n",
       " Text(0.25, 0.25, 'gini = 0.003\\nsamples = 5691\\nvalue = [5683, 8]\\nclass = 0'),\n",
       " Text(0.75, 0.25, 'gini = 0.096\\nsamples = 1655\\nvalue = [84, 1571]\\nclass = 1')]"
      ]
     },
     "execution_count": 23,
     "metadata": {},
     "output_type": "execute_result"
    },
    {
     "data": {
      "image/png": "[encoded data removed]",
      "text/plain": [
       "<Figure size 500x200 with 1 Axes>"
      ]
     },
     "metadata": {},
     "output_type": "display_data"
    }
   ],
   "source": [
    "data = pd.read_csv('train_office.csv')\n",
    "data = data.drop('date', axis = 1)\n",
    "X = data.drop('Occupancy', axis = 1)\n",
    "Y = data['Occupancy']\n",
    "dt_clf = tree.DecisionTreeClassifier(max_depth=1)\n",
    "dt_clf.fit(X, Y)\n",
    "plt.figure(figsize=(5, 2))\n",
    "tree.plot_tree(dt_clf, feature_names=X.columns, class_names=[\"0\", \"1\"])"
   ]
  },
  {
   "cell_type": "markdown",
   "id": "911d8f8e",
   "metadata": {},
   "source": [
    "Based on this tree we can say that Light is the most important feature."
   ]
  },
  {
   "cell_type": "markdown",
   "id": "332048f6",
   "metadata": {},
   "source": [
    "### 2. [20 points] Sklearn grid search"
   ]
  },
  {
   "cell_type": "markdown",
   "id": "d62f702d",
   "metadata": {},
   "source": [
    "### Sickit-learn provides a function to perform grid search i.e., evaluating all possible values of a given set of hyperparameters. For this question, use the office dataset."
   ]
  },
  {
   "cell_type": "markdown",
   "id": "50af3953",
   "metadata": {},
   "source": [
    "### (a) Perform a grid search for Random Forest Classifier using a 5-fold cross-validation (cv=5). The hyperparameters for your grid search are {n estimators, criterion, max depth, min samples split, min samples leaf}. Please read the signature of Random Forest to know more about these arguments and their appropriate values."
   ]
  },
  {
   "cell_type": "code",
   "execution_count": 24,
   "id": "5c63656c",
   "metadata": {},
   "outputs": [
    {
     "data": {
      "text/plain": [
       "{'criterion': 'gini',\n",
       " 'max_depth': 5,\n",
       " 'min_samples_leaf': 5,\n",
       " 'min_samples_split': 4,\n",
       " 'n_estimators': 100}"
      ]
     },
     "execution_count": 24,
     "metadata": {},
     "output_type": "execute_result"
    }
   ],
   "source": [
    "params = {'n_estimators': [50, 100, 150],'criterion': ['gini', 'entropy'],'max_depth': [None, 5, 10],'min_samples_split': [3, 4, 5],'min_samples_leaf': [2, 4, 5, 6]}\n",
    "rf_clf = RandomForestClassifier()\n",
    "grid_search = GridSearchCV(estimator=rf_clf, param_grid=params, cv=5)\n",
    "grid_search.fit(X, Y)\n",
    "bp = grid_search.best_params_\n",
    "bp"
   ]
  },
  {
   "cell_type": "markdown",
   "id": "03310e16",
   "metadata": {},
   "source": [
    "### (b) Predict the class of test samples using the best classifier. Note that, the best classifier is built similar to 1(c) i.e., training on the entire training data with the best hyperparameters. Then, predict labels of test samples and print accuracy, precision, recall, F1-score, and AUC. Did you obtain a better performing classifier than what you found in question 1?"
   ]
  },
  {
   "cell_type": "code",
   "execution_count": 25,
   "id": "da4aa975",
   "metadata": {},
   "outputs": [
    {
     "data": {
      "text/html": [
       "<div>\n",
       "<style scoped>\n",
       "    .dataframe tbody tr th:only-of-type {\n",
       "        vertical-align: middle;\n",
       "    }\n",
       "\n",
       "    .dataframe tbody tr th {\n",
       "        vertical-align: top;\n",
       "    }\n",
       "\n",
       "    .dataframe thead th {\n",
       "        text-align: right;\n",
       "    }\n",
       "</style>\n",
       "<table border=\"1\" class=\"dataframe\">\n",
       "  <thead>\n",
       "    <tr style=\"text-align: right;\">\n",
       "      <th></th>\n",
       "      <th>Model</th>\n",
       "      <th>Precision-Score</th>\n",
       "      <th>Recall-Score</th>\n",
       "      <th>F1-Score</th>\n",
       "      <th>Accuracy-Score</th>\n",
       "      <th>AUC-Score</th>\n",
       "    </tr>\n",
       "  </thead>\n",
       "  <tbody>\n",
       "    <tr>\n",
       "      <th>0</th>\n",
       "      <td>Random Forest</td>\n",
       "      <td>0.980132</td>\n",
       "      <td>0.986667</td>\n",
       "      <td>0.993734</td>\n",
       "      <td>0.993726</td>\n",
       "      <td>0.99948</td>\n",
       "    </tr>\n",
       "  </tbody>\n",
       "</table>\n",
       "</div>"
      ],
      "text/plain": [
       "           Model  Precision-Score  Recall-Score  F1-Score  Accuracy-Score  \\\n",
       "0  Random Forest         0.980132      0.986667  0.993734        0.993726   \n",
       "\n",
       "   AUC-Score  \n",
       "0    0.99948  "
      ]
     },
     "execution_count": 25,
     "metadata": {},
     "output_type": "execute_result"
    }
   ],
   "source": [
    "data_test = pd.read_csv('test_office.csv')\n",
    "data_test = data_test.drop('date', axis = 1)\n",
    "X_T = data_test.drop('Occupancy', axis = 1)\n",
    "Y_T = data_test['Occupancy']\n",
    "rf_clf = RandomForestClassifier(**bp)\n",
    "rf_clf.fit(X, Y)\n",
    "RF_Y_pred = rf_clf.predict(X_T)\n",
    "RF_Y_pred_prob = rf_clf.predict_proba(X_T)\n",
    "RF_confusion_matrix = confusion_matrix(Y_T, RF_Y_pred)\n",
    "RF_accuracy = accuracy_score(Y_T, RF_Y_pred)\n",
    "RF_precision = precision_score(Y_T, RF_Y_pred)\n",
    "RF_recall = recall_score(Y_T, RF_Y_pred)\n",
    "RF_f1_score = f1_score(Y_T, RF_Y_pred, average='weighted')\n",
    "RF_auc_score = roc_auc_score(Y_T, RF_Y_pred_prob[:, 1])\n",
    "RF_df = pd.DataFrame({'Model': ['Random Forest'],'Precision-Score': [RF_precision],'Recall-Score': [RF_recall],'F1-Score': [RF_f1_score], 'Accuracy-Score': [RF_accuracy], 'AUC-Score': [RF_auc_score]})\n",
    "RF_df"
   ]
  },
  {
   "cell_type": "markdown",
   "id": "2b3e8005",
   "metadata": {},
   "source": [
    "Apparently, Random forest classifier is performing similar to Decision Tree, Logistic Regression and KNN with the best parameters achieved from Grid Search."
   ]
  },
  {
   "cell_type": "markdown",
   "id": "435fbc0f",
   "metadata": {},
   "source": [
    "### 3. [45 points] Regression"
   ]
  },
  {
   "cell_type": "markdown",
   "id": "35cdb8cd",
   "metadata": {},
   "source": [
    "### For this question, use the Microsoft stock dataset. Use 80% of the data for training and 20% for the test. Consider Adj Close as the label."
   ]
  },
  {
   "cell_type": "markdown",
   "id": "d63f4300",
   "metadata": {},
   "source": [
    "### (a) Use grid search (5-fold cross-validation) and find the best decision tree regressor. The hyperparameters for your grid search include {criterion, splitter, max depth, min samples split, min samples leaf}. Again, consider a set of reasonable values for hyperparamters."
   ]
  },
  {
   "cell_type": "code",
   "execution_count": 26,
   "id": "4f212316",
   "metadata": {},
   "outputs": [
    {
     "data": {
      "text/html": [
       "<div>\n",
       "<style scoped>\n",
       "    .dataframe tbody tr th:only-of-type {\n",
       "        vertical-align: middle;\n",
       "    }\n",
       "\n",
       "    .dataframe tbody tr th {\n",
       "        vertical-align: top;\n",
       "    }\n",
       "\n",
       "    .dataframe thead th {\n",
       "        text-align: right;\n",
       "    }\n",
       "</style>\n",
       "<table border=\"1\" class=\"dataframe\">\n",
       "  <thead>\n",
       "    <tr style=\"text-align: right;\">\n",
       "      <th></th>\n",
       "      <th>Open</th>\n",
       "      <th>High</th>\n",
       "      <th>Low</th>\n",
       "      <th>Close</th>\n",
       "      <th>Volume</th>\n",
       "      <th>Adj Close</th>\n",
       "    </tr>\n",
       "  </thead>\n",
       "  <tbody>\n",
       "    <tr>\n",
       "      <th>0</th>\n",
       "      <td>62.959999</td>\n",
       "      <td>62.990002</td>\n",
       "      <td>62.029999</td>\n",
       "      <td>62.139999</td>\n",
       "      <td>25465900</td>\n",
       "      <td>62.139999</td>\n",
       "    </tr>\n",
       "    <tr>\n",
       "      <th>1</th>\n",
       "      <td>62.860001</td>\n",
       "      <td>63.200001</td>\n",
       "      <td>62.730000</td>\n",
       "      <td>62.900002</td>\n",
       "      <td>10181600</td>\n",
       "      <td>62.900002</td>\n",
       "    </tr>\n",
       "  </tbody>\n",
       "</table>\n",
       "</div>"
      ],
      "text/plain": [
       "        Open       High        Low      Close    Volume  Adj Close\n",
       "0  62.959999  62.990002  62.029999  62.139999  25465900  62.139999\n",
       "1  62.860001  63.200001  62.730000  62.900002  10181600  62.900002"
      ]
     },
     "metadata": {},
     "output_type": "display_data"
    },
    {
     "data": {
      "text/html": [
       "<div>\n",
       "<style scoped>\n",
       "    .dataframe tbody tr th:only-of-type {\n",
       "        vertical-align: middle;\n",
       "    }\n",
       "\n",
       "    .dataframe tbody tr th {\n",
       "        vertical-align: top;\n",
       "    }\n",
       "\n",
       "    .dataframe thead th {\n",
       "        text-align: right;\n",
       "    }\n",
       "</style>\n",
       "<table border=\"1\" class=\"dataframe\">\n",
       "  <thead>\n",
       "    <tr style=\"text-align: right;\">\n",
       "      <th></th>\n",
       "      <th>Open</th>\n",
       "      <th>High</th>\n",
       "      <th>Low</th>\n",
       "      <th>Close</th>\n",
       "      <th>Volume</th>\n",
       "    </tr>\n",
       "  </thead>\n",
       "  <tbody>\n",
       "    <tr>\n",
       "      <th>0</th>\n",
       "      <td>62.959999</td>\n",
       "      <td>62.990002</td>\n",
       "      <td>62.029999</td>\n",
       "      <td>62.139999</td>\n",
       "      <td>25465900</td>\n",
       "    </tr>\n",
       "    <tr>\n",
       "      <th>1</th>\n",
       "      <td>62.860001</td>\n",
       "      <td>63.200001</td>\n",
       "      <td>62.730000</td>\n",
       "      <td>62.900002</td>\n",
       "      <td>10181600</td>\n",
       "    </tr>\n",
       "  </tbody>\n",
       "</table>\n",
       "</div>"
      ],
      "text/plain": [
       "        Open       High        Low      Close    Volume\n",
       "0  62.959999  62.990002  62.029999  62.139999  25465900\n",
       "1  62.860001  63.200001  62.730000  62.900002  10181600"
      ]
     },
     "metadata": {},
     "output_type": "display_data"
    }
   ],
   "source": [
    "msft = pd.read_csv('msft.csv')\n",
    "msft = msft.drop('Date', axis = 1)\n",
    "display(msft.head(2))\n",
    "X_m = msft.drop('Adj Close', axis=1)\n",
    "Y_m = msft['Adj Close']\n",
    "display(X_m.head(2))"
   ]
  },
  {
   "cell_type": "code",
   "execution_count": 27,
   "id": "38896ad3",
   "metadata": {},
   "outputs": [
    {
     "data": {
      "text/plain": [
       "{'criterion': 'friedman_mse',\n",
       " 'max_depth': 7,\n",
       " 'min_samples_leaf': 7,\n",
       " 'min_samples_split': 7,\n",
       " 'splitter': 'best'}"
      ]
     },
     "execution_count": 27,
     "metadata": {},
     "output_type": "execute_result"
    }
   ],
   "source": [
    "X_train, X_test, y_train, y_test = train_test_split(X_m, Y_m, test_size=0.2, random_state=0)\n",
    "params = {'criterion': ['squared_error', 'friedman_mse'],'max_depth': [3, 5, 7, None], 'splitter': ['best', 'random'],'min_samples_split': [3, 5, 7, 10],'min_samples_leaf': [3, 4, 5, 7]}\n",
    "dtr_clf = DecisionTreeRegressor()\n",
    "grid_search = GridSearchCV(estimator=dtr_clf, param_grid=params, cv=5)\n",
    "grid_search.fit(X_train, y_train)\n",
    "bp = grid_search.best_params_\n",
    "bp"
   ]
  },
  {
   "cell_type": "markdown",
   "id": "3f02922f",
   "metadata": {},
   "source": [
    "### (b) Find the hyperparameter values yielding the best performance in the previous step. Then, similar to the previous questions, train a decision tree regressor with these hyperparameters on the entire training set. Afterwards, predict labels of samples in the test set using this best regressor. What is the performance against the test set based on RMSE?"
   ]
  },
  {
   "cell_type": "code",
   "execution_count": 28,
   "id": "2ffdb71e",
   "metadata": {},
   "outputs": [
    {
     "data": {
      "text/plain": [
       "0.945893885892023"
      ]
     },
     "execution_count": 28,
     "metadata": {},
     "output_type": "execute_result"
    }
   ],
   "source": [
    "dtr_clf = DecisionTreeRegressor(**bp)\n",
    "dtr_clf.fit(X_train, y_train)\n",
    "y_pred = dtr_clf.predict(X_test)\n",
    "rmse = mean_squared_error(y_test, y_pred, squared=False)\n",
    "rmse"
   ]
  },
  {
   "cell_type": "markdown",
   "id": "f62a8eb2",
   "metadata": {},
   "source": [
    "### (c) Draw the learning curve plot, i.e., the size of the training set vs. the performance. For each experiment, train a classifier on k% of the training set and get the performance on the training and test sets and draw them in one plot. Consider k={10%, 20%, 30% · · · 100%}. What are your observations?"
   ]
  },
  {
   "cell_type": "code",
   "execution_count": 29,
   "id": "84047303",
   "metadata": {},
   "outputs": [
    {
     "data": {
      "image/png": "[encoded data removed]",
      "text/plain": [
       "<Figure size 400x300 with 1 Axes>"
      ]
     },
     "metadata": {},
     "output_type": "display_data"
    }
   ],
   "source": [
    "train_k = [0.1, 0.2, 0.3, 0.4, 0.5, 0.6, 0.7, 0.8, 0.9]\n",
    "train_s = []\n",
    "test_s = []\n",
    "for i in train_k:\n",
    "    X_train, X_test, y_train, y_test = train_test_split(X_m, Y_m, train_size=i)\n",
    "    dtr_clf = DecisionTreeRegressor(**bp)\n",
    "    dtr_clf.fit(X_train, y_train)\n",
    "    y_train_pred = dtr_clf.predict(X_train)\n",
    "    train_s.append(mean_squared_error(y_train, y_train_pred, squared=False))\n",
    "    y_test_pred = dtr_clf.predict(X_test)\n",
    "    test_s.append(mean_squared_error(y_test, y_test_pred, squared=False))\n",
    "plt.figure(figsize = (4,3))\n",
    "plt.plot(train_k, train_s, label='Training RMSE')\n",
    "plt.plot(train_k, test_s, label='Test RMSE')\n",
    "plt.xlabel('Training Values')\n",
    "plt.ylabel('RMSE Score')\n",
    "plt.legend()\n",
    "plt.show()"
   ]
  },
  {
   "cell_type": "markdown",
   "id": "3768467b",
   "metadata": {},
   "source": [
    "The RMSE value is decresing for test data as we take more training data. Hence 0.75 would be an ideal training data to get good RMSE for this dataset."
   ]
  },
  {
   "cell_type": "markdown",
   "id": "0bc2af6b",
   "metadata": {},
   "source": [
    "### (d) Traditional models (e.g., decision trees) are usually sensitive to the input features’ scale. Hence, it may be better to change raw feature vectors into a more suitable representation for the downstream task. In this part, try to apply different transformations to the input features aiming to have a better predictive model. To this end, use preprocessing package (study this page and sample codes carefully)."
   ]
  },
  {
   "cell_type": "code",
   "execution_count": 30,
   "id": "4c9c0bd8",
   "metadata": {},
   "outputs": [
    {
     "data": {
      "text/plain": [
       "{'criterion': 'friedman_mse',\n",
       " 'max_depth': 7,\n",
       " 'min_samples_leaf': 7,\n",
       " 'min_samples_split': 5,\n",
       " 'splitter': 'best'}"
      ]
     },
     "execution_count": 30,
     "metadata": {},
     "output_type": "execute_result"
    }
   ],
   "source": [
    "msft = pd.read_csv('msft.csv') #without applying StandardScaler, MinMaxScaler, Normalize functions\n",
    "msft = msft.drop('Date', axis = 1)\n",
    "X_m = msft.drop('Adj Close', axis=1)\n",
    "Y_m = msft['Adj Close']\n",
    "X_train, X_test, y_train, y_test = train_test_split(X_m, Y_m, test_size=0.2, random_state=0)\n",
    "params = {'criterion': ['squared_error', 'friedman_mse'],'max_depth': [3, 5, 7, None], 'splitter': ['best', 'random'],'min_samples_split': [3, 5, 7, 10],'min_samples_leaf': [3, 4, 5, 7]}\n",
    "dtr_clf = DecisionTreeRegressor()\n",
    "grid_search = GridSearchCV(estimator=dtr_clf, param_grid=params, cv=5)\n",
    "grid_search.fit(X_train, y_train)\n",
    "bp = grid_search.best_params_\n",
    "bp"
   ]
  },
  {
   "cell_type": "code",
   "execution_count": 31,
   "id": "0f205407",
   "metadata": {},
   "outputs": [
    {
     "data": {
      "text/plain": [
       "0.945893885892023"
      ]
     },
     "execution_count": 31,
     "metadata": {},
     "output_type": "execute_result"
    }
   ],
   "source": [
    "dtr_clf = DecisionTreeRegressor(**bp)\n",
    "dtr_clf.fit(X_train, y_train)\n",
    "y_pred = dtr_clf.predict(X_test)\n",
    "rmse = mean_squared_error(y_test, y_pred, squared=False)\n",
    "rmse"
   ]
  },
  {
   "cell_type": "markdown",
   "id": "d8da594a",
   "metadata": {},
   "source": [
    "### i. Transform the input features using StandardScaler function and repeat 3(a) and 3(b)."
   ]
  },
  {
   "cell_type": "code",
   "execution_count": 32,
   "id": "55f68cef",
   "metadata": {},
   "outputs": [
    {
     "data": {
      "text/plain": [
       "{'criterion': 'squared_error',\n",
       " 'max_depth': 7,\n",
       " 'min_samples_leaf': 7,\n",
       " 'min_samples_split': 10,\n",
       " 'splitter': 'best'}"
      ]
     },
     "execution_count": 32,
     "metadata": {},
     "output_type": "execute_result"
    }
   ],
   "source": [
    "msft = pd.read_csv('msft.csv')\n",
    "msft = msft.drop('Date', axis = 1)\n",
    "X_m = msft.drop('Adj Close', axis=1)\n",
    "Y_m = msft['Adj Close']\n",
    "scaler = StandardScaler()\n",
    "X_m = scaler.fit_transform(X_m)\n",
    "X_train, X_test, y_train, y_test = train_test_split(X_m, Y_m, test_size=0.2, random_state=0)\n",
    "params = {'criterion': ['squared_error', 'friedman_mse'],'max_depth': [3, 5, 7, None], 'splitter': ['best', 'random'],'min_samples_split': [3, 5, 7, 10],'min_samples_leaf': [3, 4, 5, 7]}\n",
    "dtr_clf = DecisionTreeRegressor()\n",
    "grid_search = GridSearchCV(estimator=dtr_clf, param_grid=params, cv=5)\n",
    "grid_search.fit(X_train, y_train)\n",
    "bp = grid_search.best_params_\n",
    "bp"
   ]
  },
  {
   "cell_type": "code",
   "execution_count": 33,
   "id": "fb643a5c",
   "metadata": {},
   "outputs": [
    {
     "data": {
      "text/plain": [
       "0.9453411545391117"
      ]
     },
     "execution_count": 33,
     "metadata": {},
     "output_type": "execute_result"
    }
   ],
   "source": [
    "dtr_clf = DecisionTreeRegressor(**bp)\n",
    "dtr_clf.fit(X_train, y_train)\n",
    "y_pred = dtr_clf.predict(X_test)\n",
    "rmse = mean_squared_error(y_test, y_pred, squared=False)\n",
    "rmse"
   ]
  },
  {
   "cell_type": "markdown",
   "id": "d674a61e",
   "metadata": {},
   "source": [
    "### ii. Transform the input features using MinMaxScaler function and repeat 3(a) and 3(b)."
   ]
  },
  {
   "cell_type": "code",
   "execution_count": 34,
   "id": "2548b513",
   "metadata": {},
   "outputs": [
    {
     "data": {
      "text/plain": [
       "{'criterion': 'friedman_mse',\n",
       " 'max_depth': 7,\n",
       " 'min_samples_leaf': 7,\n",
       " 'min_samples_split': 3,\n",
       " 'splitter': 'best'}"
      ]
     },
     "execution_count": 34,
     "metadata": {},
     "output_type": "execute_result"
    }
   ],
   "source": [
    "msft = pd.read_csv('msft.csv')\n",
    "msft = msft.drop('Date', axis = 1)\n",
    "X_m = msft.drop('Adj Close', axis=1)\n",
    "Y_m = msft['Adj Close']\n",
    "scaler = MinMaxScaler()\n",
    "X_m = scaler.fit_transform(X_m)\n",
    "X_train, X_test, y_train, y_test = train_test_split(X_m, Y_m, test_size=0.2, random_state=0)\n",
    "params = {'criterion': ['squared_error', 'friedman_mse'],'max_depth': [3, 5, 7, None], 'splitter': ['best', 'random'],'min_samples_split': [3, 5, 7, 10],'min_samples_leaf': [3, 4, 5, 7]}\n",
    "dtr_clf = DecisionTreeRegressor()\n",
    "grid_search = GridSearchCV(estimator=dtr_clf, param_grid=params, cv=5)\n",
    "grid_search.fit(X_train, y_train)\n",
    "bp = grid_search.best_params_\n",
    "bp"
   ]
  },
  {
   "cell_type": "code",
   "execution_count": 35,
   "id": "b5d77196",
   "metadata": {},
   "outputs": [
    {
     "data": {
      "text/plain": [
       "0.9451533971538901"
      ]
     },
     "execution_count": 35,
     "metadata": {},
     "output_type": "execute_result"
    }
   ],
   "source": [
    "dtr_clf = DecisionTreeRegressor(**bp)\n",
    "dtr_clf.fit(X_train, y_train)\n",
    "y_pred = dtr_clf.predict(X_test)\n",
    "rmse = mean_squared_error(y_test, y_pred, squared=False)\n",
    "rmse"
   ]
  },
  {
   "cell_type": "markdown",
   "id": "58c9b29d",
   "metadata": {},
   "source": [
    "### iii. Transform the input features using normalize function (section 6.3.3) and repeat 3(a) and 3(b)."
   ]
  },
  {
   "cell_type": "code",
   "execution_count": 36,
   "id": "fbfd4d1b",
   "metadata": {},
   "outputs": [],
   "source": [
    "msft = pd.read_csv('msft.csv')\n",
    "msft = msft.drop('Date', axis = 1)\n",
    "X_m = msft.drop('Adj Close', axis=1)\n",
    "X_m = normalize(X_m)\n",
    "Y_m = msft['Adj Close']\n",
    "X_train, X_test, y_train, y_test = train_test_split(X_m, Y_m, test_size=0.2, random_state=0)"
   ]
  },
  {
   "cell_type": "code",
   "execution_count": 37,
   "id": "c6779bb4",
   "metadata": {},
   "outputs": [
    {
     "data": {
      "text/plain": [
       "{'criterion': 'squared_error',\n",
       " 'max_depth': 5,\n",
       " 'min_samples_leaf': 5,\n",
       " 'min_samples_split': 10,\n",
       " 'splitter': 'random'}"
      ]
     },
     "execution_count": 37,
     "metadata": {},
     "output_type": "execute_result"
    }
   ],
   "source": [
    "params = {'criterion': ['squared_error', 'friedman_mse'],'max_depth': [3, 5, 7, None], 'splitter': ['best', 'random'],'min_samples_split': [3, 5, 7, 10],'min_samples_leaf': [3, 4, 5, 7]}\n",
    "dtr_clf = DecisionTreeRegressor()\n",
    "grid_search = GridSearchCV(estimator=dtr_clf, param_grid=params, cv=5)\n",
    "grid_search.fit(X_train, y_train)\n",
    "bp = grid_search.best_params_\n",
    "bp"
   ]
  },
  {
   "cell_type": "code",
   "execution_count": 38,
   "id": "102416c2",
   "metadata": {},
   "outputs": [
    {
     "data": {
      "text/plain": [
       "5.448155654022808"
      ]
     },
     "execution_count": 38,
     "metadata": {},
     "output_type": "execute_result"
    }
   ],
   "source": [
    "dtr_clf = DecisionTreeRegressor(**bp)\n",
    "dtr_clf.fit(X_train, y_train)\n",
    "y_pred = dtr_clf.predict(X_test)\n",
    "rmse = mean_squared_error(y_test, y_pred, squared=False)\n",
    "rmse"
   ]
  },
  {
   "cell_type": "markdown",
   "id": "6b4e4659",
   "metadata": {},
   "source": [
    "### Did any of the processing techniques help?"
   ]
  },
  {
   "cell_type": "markdown",
   "id": "191efbfb",
   "metadata": {},
   "source": [
    "No, Applying StandardScaler, MinMaxScaler, Normalize functions on Microsoft stock dataset does not make a huge difference and do no make it a better predictive model. The RMSE is almost similar and the RMSE is better without using StandardScaler, MinMaxScaler. Normalize functions increased the RMSE a lot."
   ]
  }
 ],
 "metadata": {
  "kernelspec": {
   "display_name": "Python 3 (ipykernel)",
   "language": "python",
   "name": "python3"
  },
  "language_info": {
   "codemirror_mode": {
    "name": "ipython",
    "version": 3
   },
   "file_extension": ".py",
   "mimetype": "text/x-python",
   "name": "python",
   "nbconvert_exporter": "python",
   "pygments_lexer": "ipython3",
   "version": "3.9.13"
  }
 },
 "nbformat": 4,
 "nbformat_minor": 5
}
